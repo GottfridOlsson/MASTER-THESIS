{
 "cells": [
  {
   "cell_type": "markdown",
   "metadata": {},
   "source": [
    "##==================================================================##\n",
    "##        File: Electrochemical-plots.ipynb\n",
    "##      Author: GOTTFRID OLSSON \n",
    "##     Created: 2024-04-24\n",
    "##     Updated: 2024-04-24\n",
    "##       About: Reads .txt files of electrochemical cycling of cells\n",
    "##              and plots the data for the Master's Thesis [TIFX05].\n",
    "##==================================================================##"
   ]
  },
  {
   "cell_type": "code",
   "execution_count": 2,
   "metadata": {},
   "outputs": [],
   "source": [
    "# LIBRARIES #\n",
    "\n",
    "import numpy as np\n",
    "import CSV_handler as CSV\n",
    "import plot_functions as f\n",
    "import matplotlib.pyplot as plt\n"
   ]
  },
  {
   "cell_type": "code",
   "execution_count": 3,
   "metadata": {},
   "outputs": [
    {
     "name": "stdout",
     "output_type": "stream",
     "text": [
      "DONE: set_LaTeX_and_CMU: True\n"
     ]
    }
   ],
   "source": [
    "# PLOT SETTINGS #\n",
    "\n",
    "fig_width_cm  = 16\n",
    "fig_height_cm = 9\n",
    "\n",
    "font_size_axis   = 13\n",
    "font_size_tick   = 11\n",
    "font_size_legend = 9\n",
    "\n",
    "grid_major = True\n",
    "grid_minor = False\n",
    "legend_on = True\n",
    "\n",
    "f.set_LaTeX_and_CMU(True) #must run before plotting"
   ]
  },
  {
   "cell_type": "code",
   "execution_count": 13,
   "metadata": {},
   "outputs": [
    {
     "name": "stdout",
     "output_type": "stream",
     "text": [
      "DONE: Reading CSV: C:\\MASTER-THESIS\\EXPERIMENTAL\\Data\\Battery-cycling\\SEIDEP\\2024-04-18_SEIDEP-1_T-cell_Li-Cu_1-mm-PP-spacer_75muL-4MLiFSI-DME_inside-glovebox_02_MB_C10.txt\n",
      "DONE: Reading CSV: C:\\MASTER-THESIS\\EXPERIMENTAL\\Data\\Battery-cycling\\SEIDEP\\2024-04-19_SEIDEP-4_T-cell_Li-Cu_1-mm-PP-spacer_75muL-4MLiFSI-DME_inside-glovebox_02_MB_C10.txt\n",
      "DONE: Reading CSV: C:\\MASTER-THESIS\\EXPERIMENTAL\\Data\\Battery-cycling\\SEIDEP\\2024-04-22_SEIDEP-5_T-cell_Li-Cu_1-mm-PP-spacer_75muL-4MLiFSI-DME_inside-glovebox_02_MB_C05.txt\n"
     ]
    }
   ],
   "source": [
    "# Paths for data\n",
    "\n",
    "# SEIDEP: Deposition of Li after a 0.010 V hold and reaching a certain value of i_SEI / i_deposition (= \\sigma)\n",
    "SEIDEP_root_path = 'C:\\\\MASTER-THESIS\\\\EXPERIMENTAL\\\\Data\\\\Battery-cycling\\\\SEIDEP\\\\'\n",
    "\n",
    "# sigma_x, _0x, _00x means: sigma = x, 0.x, or 0.0x\n",
    "SEIDEP_sigma_1_path_MB   = SEIDEP_root_path + '2024-04-18_SEIDEP-1_T-cell_Li-Cu_1-mm-PP-spacer_75muL-4MLiFSI-DME_inside-glovebox_02_MB_C10.txt' # SEI-formation\n",
    "SEIDEP_sigma_1_path_CP   = SEIDEP_root_path + '2024-04-18_SEIDEP-1_T-cell_Li-Cu_1-mm-PP-spacer_75muL-4MLiFSI-DME_inside-glovebox_03_CP_C10.txt' # Li-deposition\n",
    "SEIDEP_sigma_01_path_MB  = SEIDEP_root_path + '2024-04-19_SEIDEP-4_T-cell_Li-Cu_1-mm-PP-spacer_75muL-4MLiFSI-DME_inside-glovebox_02_MB_C10.txt'\n",
    "SEIDEP_sigma_01_path_CP  = SEIDEP_root_path + '2024-04-19_SEIDEP-4_T-cell_Li-Cu_1-mm-PP-spacer_75muL-4MLiFSI-DME_inside-glovebox_03_CP_C10.txt'\n",
    "SEIDEP_sigma_005_path_MB = SEIDEP_root_path + '2024-04-22_SEIDEP-5_T-cell_Li-Cu_1-mm-PP-spacer_75muL-4MLiFSI-DME_inside-glovebox_02_MB_C05.txt'\n",
    "SEIDEP_sigma_005_path_CP = SEIDEP_root_path + '2024-04-22_SEIDEP-5_T-cell_Li-Cu_1-mm-PP-spacer_75muL-4MLiFSI-DME_inside-glovebox_03_CP_C05.txt'\n",
    "\n",
    "SEIDEP_sigma_1_MB_df   = CSV.read(SEIDEP_sigma_1_path_MB, delimiter='\\t') # time/s, potential/V, current/mA  (potential = potential of working electrode vs. reference elctrode)\n",
    "SEIDEP_sigma_01_MB_df  = CSV.read(SEIDEP_sigma_01_path_MB, delimiter='\\t')\n",
    "SEIDEP_sigma_005_MB_df = CSV.read(SEIDEP_sigma_005_path_MB, delimiter='\\t')\n",
    "\n",
    "SEIDEP_sigma_1_MB_df   = SEIDEP_sigma_1_MB_df[SEIDEP_sigma_1_MB_df.columns[:-1]] #drop last 'unnamed column' (Biologic software apparantly produces one extra column)\n",
    "SEIDEP_sigma_01_MB_df  = SEIDEP_sigma_01_MB_df[SEIDEP_sigma_01_MB_df.columns[:-1]]\n",
    "SEIDEP_sigma_005_MB_df = SEIDEP_sigma_005_MB_df[SEIDEP_sigma_005_MB_df.columns[:-1]]\n",
    "\n",
    "# time/s, potential/V, current/mA\n",
    "t_data_sigma_1   = SEIDEP_sigma_1_MB_df.loc[:,\"time/s\"] - 60 #remove 1 min OCV time\n",
    "t_data_sigma_01  = SEIDEP_sigma_01_MB_df.loc[:,\"time/s\"] - 60\n",
    "t_data_sigma_005 = SEIDEP_sigma_005_MB_df.loc[:,\"time/s\"] - 60 \n",
    "\n",
    "V_data_sigma_1   = SEIDEP_sigma_1_MB_df.loc[:,\"Ewe/V\"]\n",
    "V_data_sigma_01  = SEIDEP_sigma_01_MB_df.loc[:,\"Ewe/V\"]\n",
    "V_data_sigma_005 = SEIDEP_sigma_005_MB_df.loc[:,\"Ewe/V\"]\n",
    "\n",
    "I_data_sigma_1   = SEIDEP_sigma_1_MB_df.loc[:,\"I/mA\"]\n",
    "I_data_sigma_01  = SEIDEP_sigma_01_MB_df.loc[:,\"I/mA\"]\n",
    "I_data_sigma_005 = SEIDEP_sigma_005_MB_df.loc[:,\"I/mA\"]"
   ]
  },
  {
   "cell_type": "code",
   "execution_count": 19,
   "metadata": {},
   "outputs": [
    {
     "name": "stdout",
     "output_type": "stream",
     "text": [
      "DONE: set_font_size: (axis, tick, legend): 13, 11, 9\n",
      "DONE: set_axis_scale: X: linear, Y: linear on axs: None\n",
      "DONE: set_axis_labels: on axs: None\n",
      "DONE: set_axis_invert: x: False, y: False on axs: None\n",
      "DONE: set_axis_limits: x=(-0.0001, 8000) and y=(-0.04, 0.0001) on axs: None\n",
      "DONE: set_grid: grid_major: True, grid_minor: False on axs: None\n",
      "DONE: set_legend: (on, alpha, location): True, 1.0, best, on axs: None\n",
      "DONE: align_labels\n",
      "DONE: set_layout_tight\n"
     ]
    },
    {
     "data": {
      "image/png": "[encoded data removed]",
      "text/plain": [
       "<Figure size 629.921x354.331 with 1 Axes>"
      ]
     },
     "metadata": {},
     "output_type": "display_data"
    }
   ],
   "source": [
    "# PLOT SEIDEP (T-cells) #\n",
    "\n",
    "# Create figure on which axis lives, one axis per subplot\n",
    "fig, axs = plt.subplots(nrows=1, ncols=1, figsize=(fig_width_cm/2.54, fig_height_cm/2.54), sharex=False, sharey=False)\n",
    "\n",
    "# Plot your data (axs.plot, .errorbar, .hist, ...)\n",
    "axs.plot(t_data_sigma_1,   I_data_sigma_1,   linewidth=1, linestyle='-', color='r', marker='x', markersize='4', label='$J=1$, $\\\\sigma=1.00$')\n",
    "axs.plot(t_data_sigma_01,  I_data_sigma_01,  linewidth=1, linestyle='-', color='g', marker='o', markersize='4', label='$J=1$, $\\\\sigma=0.10$')\n",
    "axs.plot(t_data_sigma_005, I_data_sigma_005, linewidth=1, linestyle='-', color='b', marker='^', markersize='4', label='$J=1$, $\\\\sigma=0.05$')\n",
    "#axs.plot(fit_x, fit_y, color='k', linestyle='-', label='Linear fit')\n",
    "\n",
    "# Settings for each axis (axs)\n",
    "f.set_font_size(axis=font_size_axis, tick=font_size_tick, legend=font_size_legend)\n",
    "f.set_axis_scale(   axs, xScale_string='linear', yScale_string='linear')\n",
    "f.set_axis_labels(  axs, x_label='Time / s', y_label='Current / mA')\n",
    "f.set_axis_invert(  axs, x_invert=False, y_invert=False)\n",
    "f.set_axis_limits(  axs, xmin=-0.0001, xmax=8000, ymin=-0.04, ymax=0.0001)\n",
    "f.set_grid(         axs, grid_major_on=grid_major, grid_major_linewidth=0.7, grid_minor_on=grid_minor, grid_minor_linewidth=0.3) # set_grid must be after set_axis_scale for some reason (at least with 'log')\n",
    "f.set_legend(       axs, legend_on=legend_on, alpha=1.0, location='best')\n",
    "\n",
    "f.align_labels(fig)\n",
    "f.set_layout_tight(fig)\n",
    "# PDF_path_SEIDEP = \n",
    "#f.export_figure_as_pdf(PDF_path_SEIDEP)\n",
    "\n",
    "plt.show()"
   ]
  }
 ],
 "metadata": {
  "kernelspec": {
   "display_name": "Python 3",
   "language": "python",
   "name": "python3"
  },
  "language_info": {
   "codemirror_mode": {
    "name": "ipython",
    "version": 3
   },
   "file_extension": ".py",
   "mimetype": "text/x-python",
   "name": "python",
   "nbconvert_exporter": "python",
   "pygments_lexer": "ipython3",
   "version": "3.12.1"
  }
 },
 "nbformat": 4,
 "nbformat_minor": 2
}
