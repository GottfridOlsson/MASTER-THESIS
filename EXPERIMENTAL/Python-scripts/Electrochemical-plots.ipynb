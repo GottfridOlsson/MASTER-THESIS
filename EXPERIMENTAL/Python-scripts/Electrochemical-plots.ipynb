{
 "cells": [
  {
   "cell_type": "markdown",
   "metadata": {},
   "source": [
    "##==================================================================##\n",
    "##        File: Electrochemical-plots.ipynb\n",
    "##      Author: GOTTFRID OLSSON \n",
    "##     Created: 2024-04-24\n",
    "##     Updated: 2024-04-24\n",
    "##       About: Reads .txt files of electrochemical cycling of cells\n",
    "##              and plots the data for the Master's Thesis [TIFX05].\n",
    "##==================================================================##"
   ]
  },
  {
   "cell_type": "code",
   "execution_count": null,
   "metadata": {},
   "outputs": [],
   "source": [
    "# LIBRARIES #\n",
    "\n",
    "import numpy as np\n",
    "import CSV_handler as CSV\n",
    "import plot_functions as f\n",
    "import matplotlib.pyplot as plt\n"
   ]
  },
  {
   "cell_type": "code",
   "execution_count": null,
   "metadata": {},
   "outputs": [],
   "source": [
    "# PLOT SETTINGS #\n",
    "\n",
    "fig_width_cm  = 16\n",
    "fig_height_cm = 9\n",
    "\n",
    "font_size_axis   = 13\n",
    "font_size_tick   = 11\n",
    "font_size_legend = 9\n",
    "\n",
    "grid_major = True\n",
    "grid_minor = False\n",
    "legend_on = True\n",
    "\n",
    "f.set_LaTeX_and_CMU(True) #must run before plotting"
   ]
  },
  {
   "cell_type": "code",
   "execution_count": null,
   "metadata": {},
   "outputs": [],
   "source": [
    "# Paths for data\n",
    "\n",
    "# SEIDEP: Deposition of Li after a 0.010 V hold and reaching a certain value of i_SEI / i_deposition (= \\sigma)\n",
    "SEIDEP_root_path = 'C:\\\\MASTER-THESIS\\\\EXPERIMENTAL\\\\Data\\\\Battery-cycling\\\\SEIDEP\\\\'\n",
    "\n",
    "# sigma_x, _0x, _00x means: sigma = x, 0.x, or 0.0x\n",
    "SEIDEP_sigma_1_path_MB   = SEIDEP_root_path + '2024-04-18_SEIDEP-1_T-cell_Li-Cu_1-mm-PP-spacer_75muL-4MLiFSI-DME_inside-glovebox_02_MB_C10.txt' # SEI-formation\n",
    "SEIDEP_sigma_1_path_CP   = SEIDEP_root_path + '2024-04-18_SEIDEP-1_T-cell_Li-Cu_1-mm-PP-spacer_75muL-4MLiFSI-DME_inside-glovebox_03_CP_C10.txt' # Li-deposition\n",
    "SEIDEP_sigma_01_path_MB  = SEIDEP_root_path + '2024-04-19_SEIDEP-4_T-cell_Li-Cu_1-mm-PP-spacer_75muL-4MLiFSI-DME_inside-glovebox_02_MB_C10.txt'\n",
    "SEIDEP_sigma_01_path_CP  = SEIDEP_root_path + '2024-04-19_SEIDEP-4_T-cell_Li-Cu_1-mm-PP-spacer_75muL-4MLiFSI-DME_inside-glovebox_03_CP_C10.txt'\n",
    "SEIDEP_sigma_005_path_MB = SEIDEP_root_path + '2024-04-22_SEIDEP-5_T-cell_Li-Cu_1-mm-PP-spacer_75muL-4MLiFSI-DME_inside-glovebox_02_MB_C05.txt'\n",
    "SEIDEP_sigma_005_path_CP = SEIDEP_root_path + '2024-04-22_SEIDEP-5_T-cell_Li-Cu_1-mm-PP-spacer_75muL-4MLiFSI-DME_inside-glovebox_03_CP_C05.txt'\n",
    "\n",
    "SEIDEP_sigma_1_MB_df   = CSV.read(SEIDEP_sigma_1_path_MB) # time/s, potential/V, current/mA  (potential = potential of working electrode vs. reference elctrode)\n",
    "SEIDEP_sigma_01_MB_df  = CSV.read(SEIDEP_sigma_01_path_MB)\n",
    "SEIDEP_sigma_005_MB_df = CSV.read(SEIDEP_sigma_005_path_MB)\n",
    "\n",
    "print(SEIDEP_sigma_1_MB_df)\n",
    "print(SEIDEP_sigma_01_MB_df)\n",
    "print(SEIDEP_sigma_005_MB_df)"
   ]
  },
  {
   "cell_type": "code",
   "execution_count": null,
   "metadata": {},
   "outputs": [],
   "source": [
    "# PLOT ... #\n",
    "\n",
    "# Create figure on which axis lives, one axis per subplot\n",
    "fig, axs = plt.subplots(nrows=1, ncols=1, figsize=(fig_width_cm/2.54, fig_height_cm/2.54), sharex=False, sharey=False)\n",
    "\n",
    "# Plot your data (axs.plot, .errorbar, .hist, ...)\n",
    "axs.plot(x_data, y_data, linewidth=1.5, linestyle='', color='k', marker='o', markersize='4.5', label='Measured data')\n",
    "#axs.plot(fit_x, fit_y, color='k', linestyle='-', label='Linear fit')\n",
    "\n",
    "# Settings for each axis (axs)\n",
    "f.set_font_size(axis=font_size_axis, tick=font_size_tick, legend=font_size_legend)\n",
    "f.set_axis_scale(   axs, xScale_string='linear', yScale_string='linear')\n",
    "f.set_axis_labels(  axs, x_label=x_label, y_label=y_label)\n",
    "f.set_axis_invert(  axs, x_invert=False, y_invert=False)\n",
    "f.set_axis_limits(  axs, xmin=x_lim[0], xmax=x_lim[1], ymin=y_lim[0], ymax=y_lim[1])\n",
    "f.set_grid(         axs, grid_major_on=grid_major, grid_major_linewidth=0.7, grid_minor_on=grid_minor, grid_minor_linewidth=0.3) # set_grid must be after set_axis_scale for some reason (at least with 'log')\n",
    "f.set_legend(       axs, legend_on=legend_on, alpha=1.0, location='best')\n",
    "\n",
    "f.align_labels(fig)\n",
    "f.set_layout_tight(fig)\n",
    "#f.export_figure_as_pdf(PDF_path)\n",
    "\n",
    "plt.show()"
   ]
  }
 ],
 "metadata": {
  "kernelspec": {
   "display_name": "Python 3",
   "language": "python",
   "name": "python3"
  },
  "language_info": {
   "name": "python",
   "version": "3.12.1"
  }
 },
 "nbformat": 4,
 "nbformat_minor": 2
}
